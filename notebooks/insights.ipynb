{
 "cells": [
  {
   "cell_type": "code",
   "id": "initial_id",
   "metadata": {
    "collapsed": true,
    "ExecuteTime": {
     "end_time": "2025-06-11T08:22:29.335680Z",
     "start_time": "2025-06-11T08:22:29.331452Z"
    }
   },
   "source": [
    "import sys\n",
    "from pathlib import Path\n",
    "\n",
    "sys.path.append(\"..\")\n",
    "\n",
    "from src.insight import (plot_sentiment_distribution, plot_rating_vs_sentiment, generate_wordclouds, generate_insights, generate_report)\n",
    "\n",
    "import pandas as pd\n",
    "\n",
    "DATA_PATH = Path(\"../data/bank_reviews_clean.csv\")\n",
    "OUTPUT_DIR = Path(\"../outputs\")\n",
    "OUTPUT_DIR.mkdir(exist_ok=True)"
   ],
   "outputs": [],
   "execution_count": 12
  },
  {
   "metadata": {
    "ExecuteTime": {
     "end_time": "2025-06-11T08:20:58.590122Z",
     "start_time": "2025-06-11T08:20:58.208209Z"
    }
   },
   "cell_type": "code",
   "source": [
    "#load data\n",
    "df = pd.read_csv(DATA_PATH)\n",
    "# df['keywords'] = df['keywords'].apply(eval)\n",
    "df.head()"
   ],
   "id": "917aad51a68bad83",
   "outputs": [
    {
     "data": {
      "text/plain": [
       "                                review_text  rating        date  \\\n",
       "0                                v.good app       4  2025-06-09   \n",
       "1                             very good app       1  2025-06-09   \n",
       "2  Very amazing app indeed. I'm enjoying it       5  2025-06-08   \n",
       "3                                      Best       5  2025-06-08   \n",
       "4                                  20 years       5  2025-06-08   \n",
       "\n",
       "                     bank_name       source  \n",
       "0  Commercial Bank of Ethiopia  Google Play  \n",
       "1  Commercial Bank of Ethiopia  Google Play  \n",
       "2  Commercial Bank of Ethiopia  Google Play  \n",
       "3  Commercial Bank of Ethiopia  Google Play  \n",
       "4  Commercial Bank of Ethiopia  Google Play  "
      ],
      "text/html": [
       "<div>\n",
       "<style scoped>\n",
       "    .dataframe tbody tr th:only-of-type {\n",
       "        vertical-align: middle;\n",
       "    }\n",
       "\n",
       "    .dataframe tbody tr th {\n",
       "        vertical-align: top;\n",
       "    }\n",
       "\n",
       "    .dataframe thead th {\n",
       "        text-align: right;\n",
       "    }\n",
       "</style>\n",
       "<table border=\"1\" class=\"dataframe\">\n",
       "  <thead>\n",
       "    <tr style=\"text-align: right;\">\n",
       "      <th></th>\n",
       "      <th>review_text</th>\n",
       "      <th>rating</th>\n",
       "      <th>date</th>\n",
       "      <th>bank_name</th>\n",
       "      <th>source</th>\n",
       "    </tr>\n",
       "  </thead>\n",
       "  <tbody>\n",
       "    <tr>\n",
       "      <th>0</th>\n",
       "      <td>v.good app</td>\n",
       "      <td>4</td>\n",
       "      <td>2025-06-09</td>\n",
       "      <td>Commercial Bank of Ethiopia</td>\n",
       "      <td>Google Play</td>\n",
       "    </tr>\n",
       "    <tr>\n",
       "      <th>1</th>\n",
       "      <td>very good app</td>\n",
       "      <td>1</td>\n",
       "      <td>2025-06-09</td>\n",
       "      <td>Commercial Bank of Ethiopia</td>\n",
       "      <td>Google Play</td>\n",
       "    </tr>\n",
       "    <tr>\n",
       "      <th>2</th>\n",
       "      <td>Very amazing app indeed. I'm enjoying it</td>\n",
       "      <td>5</td>\n",
       "      <td>2025-06-08</td>\n",
       "      <td>Commercial Bank of Ethiopia</td>\n",
       "      <td>Google Play</td>\n",
       "    </tr>\n",
       "    <tr>\n",
       "      <th>3</th>\n",
       "      <td>Best</td>\n",
       "      <td>5</td>\n",
       "      <td>2025-06-08</td>\n",
       "      <td>Commercial Bank of Ethiopia</td>\n",
       "      <td>Google Play</td>\n",
       "    </tr>\n",
       "    <tr>\n",
       "      <th>4</th>\n",
       "      <td>20 years</td>\n",
       "      <td>5</td>\n",
       "      <td>2025-06-08</td>\n",
       "      <td>Commercial Bank of Ethiopia</td>\n",
       "      <td>Google Play</td>\n",
       "    </tr>\n",
       "  </tbody>\n",
       "</table>\n",
       "</div>"
      ]
     },
     "execution_count": 8,
     "metadata": {},
     "output_type": "execute_result"
    }
   ],
   "execution_count": 8
  },
  {
   "metadata": {},
   "cell_type": "code",
   "source": [
    "plot_sentiment_distribution(df, OUTPUT_DIR)\n",
    "plot_rating_vs_sentiment(df, OUTPUT_DIR)\n",
    "generate_wordclouds(df, OUTPUT_DIR)"
   ],
   "id": "840a892ba062f427",
   "outputs": [],
   "execution_count": null
  },
  {
   "metadata": {},
   "cell_type": "code",
   "source": [
    "#Generate insight and report\n",
    "\n",
    "insights = generate_insights(df)\n",
    "generate_report(insights, OUTPUT_DIR)"
   ],
   "id": "55ac411b1b75b7b0",
   "outputs": [],
   "execution_count": null
  }
 ],
 "metadata": {
  "kernelspec": {
   "display_name": "Python 3",
   "language": "python",
   "name": "python3"
  },
  "language_info": {
   "codemirror_mode": {
    "name": "ipython",
    "version": 2
   },
   "file_extension": ".py",
   "mimetype": "text/x-python",
   "name": "python",
   "nbconvert_exporter": "python",
   "pygments_lexer": "ipython2",
   "version": "2.7.6"
  }
 },
 "nbformat": 4,
 "nbformat_minor": 5
}
